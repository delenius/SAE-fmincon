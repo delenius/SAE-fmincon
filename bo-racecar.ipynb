{
 "cells": [
  {
   "cell_type": "code",
   "execution_count": 1,
   "id": "developed-sauce",
   "metadata": {},
   "outputs": [],
   "source": [
    "%load_ext autoreload\n",
    "%autoreload 2"
   ]
  },
  {
   "cell_type": "code",
   "execution_count": 2,
   "id": "above-review",
   "metadata": {},
   "outputs": [],
   "source": [
    "from ax_car import create_params, evaluate_car\n",
    "params,constraints = create_params()"
   ]
  },
  {
   "cell_type": "code",
   "execution_count": null,
   "id": "shaped-senator",
   "metadata": {},
   "outputs": [
    {
     "name": "stdout",
     "output_type": "stream",
     "text": [
      "Generating trials\n"
     ]
    },
    {
     "data": {
      "application/vnd.jupyter.widget-view+json": {
       "model_id": "95abf72dbab3444fa49893adecc02a8f",
       "version_major": 2,
       "version_minor": 0
      },
      "text/plain": [
       "  0%|          | 0/5 [00:00<?, ?it/s]"
      ]
     },
     "metadata": {},
     "output_type": "display_data"
    },
    {
     "name": "stdout",
     "output_type": "stream",
     "text": [
      "Optimizing\n"
     ]
    },
    {
     "data": {
      "application/vnd.jupyter.widget-view+json": {
       "model_id": "6201223a74aa4dbcb8e93dd002911213",
       "version_major": 2,
       "version_minor": 0
      },
      "text/plain": [
       "  0%|          | 0/15 [00:00<?, ?it/s]"
      ]
     },
     "metadata": {},
     "output_type": "display_data"
    }
   ],
   "source": [
    "from ax import *\n",
    "from tqdm.auto import tqdm\n",
    "\n",
    "search_space = SearchSpace(\n",
    "    parameters=params                      # params created above\n",
    "#    parameter_constraints=constraints       # constraints created above\n",
    ")\n",
    "exp = SimpleExperiment(\n",
    "    name=\"find_best_car\",\n",
    "    search_space=search_space,\n",
    "    evaluation_function=evaluate_car,       # objective function plugged in herew\n",
    "    objective_name=\"combined SAE objective\",\n",
    "    minimize=True,\n",
    ")\n",
    "\n",
    "sobol = Models.SOBOL(exp.search_space)\n",
    "print('Generating trials')\n",
    "for i in tqdm(range(5)):\n",
    "    exp.new_trial(generator_run=sobol.gen(1))\n",
    "\n",
    "print('Optimizing')\n",
    "best_arm = None\n",
    "for i in tqdm(range(15)):\n",
    "    gpei = Models.GPEI(experiment=exp, data=exp.eval())\n",
    "    generator_run = gpei.gen(1)\n",
    "    best_arm, _ = generator_run.best_arm_predictions\n",
    "    exp.new_trial(generator_run=generator_run)\n",
    "\n",
    "best_parameters = best_arm.parameters"
   ]
  },
  {
   "cell_type": "code",
   "execution_count": null,
   "id": "chief-confidentiality",
   "metadata": {},
   "outputs": [],
   "source": []
  },
  {
   "cell_type": "code",
   "execution_count": null,
   "id": "powered-oriental",
   "metadata": {},
   "outputs": [],
   "source": []
  }
 ],
 "metadata": {
  "kernelspec": {
   "display_name": "Python 3",
   "language": "python",
   "name": "python3"
  },
  "language_info": {
   "codemirror_mode": {
    "name": "ipython",
    "version": 3
   },
   "file_extension": ".py",
   "mimetype": "text/x-python",
   "name": "python",
   "nbconvert_exporter": "python",
   "pygments_lexer": "ipython3",
   "version": "3.9.2"
  }
 },
 "nbformat": 4,
 "nbformat_minor": 5
}
